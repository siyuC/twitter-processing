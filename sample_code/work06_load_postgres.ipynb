{
 "cells": [
  {
   "cell_type": "markdown",
   "metadata": {},
   "source": [
    "## Put the tweet data into PostGIS — it'll be easier to deal with"
   ]
  },
  {
   "cell_type": "code",
   "execution_count": 92,
   "metadata": {
    "collapsed": false
   },
   "outputs": [],
   "source": [
    "import pymongo\n",
    "import psycopg2\n",
    "import time\n",
    "import json\n",
    "import zipfile\n",
    "import string"
   ]
  },
  {
   "cell_type": "code",
   "execution_count": 2,
   "metadata": {
    "collapsed": false
   },
   "outputs": [
    {
     "name": "stdout",
     "output_type": "stream",
     "text": [
      "[u'local', u'san_francisco_db', u'topic_analysis']\n"
     ]
    }
   ],
   "source": [
    "# Run 'mongod' in shell to start the database server\n",
    "\n",
    "local = pymongo.MongoClient()\n",
    "print local.database_names()"
   ]
  },
  {
   "cell_type": "code",
   "execution_count": 3,
   "metadata": {
    "collapsed": true
   },
   "outputs": [],
   "source": [
    "conn_string = \"host='datagarden.local' dbname='smmaurer' user='smmaurer' password=''\"\n",
    "conn = psycopg2.connect(conn_string)\n",
    "cur = conn.cursor()\n",
    "print conn.encoding"
   ]
  },
  {
   "cell_type": "markdown",
   "metadata": {},
   "source": [
    "### 1. First load the California tweets from the class exercise"
   ]
  },
  {
   "cell_type": "code",
   "execution_count": 4,
   "metadata": {
    "collapsed": false
   },
   "outputs": [
    {
     "name": "stdout",
     "output_type": "stream",
     "text": [
      "[u'tweets', u'system.indexes']\n",
      "1000000\n"
     ]
    }
   ],
   "source": [
    "print local.san_francisco_db.collection_names()\n",
    "print local.san_francisco_db.tweets.count()"
   ]
  },
  {
   "cell_type": "code",
   "execution_count": 5,
   "metadata": {
    "collapsed": false
   },
   "outputs": [
    {
     "name": "stdout",
     "output_type": "stream",
     "text": [
      "{u'user_id': 224874450, u'text': u'@Tanner_Cortez hey checkout the website: http://t.co/LuktJ6hiws', u'cluster': -1.0, u'location': {u'type': u'Point', u'coordinates': [-121.88355687, 37.44609999]}, u'timeStamp': u'Wed Sep 11 04:38:08 +0000 2013', u'lat': 37.44609999, u'lng': -121.88355687, u'_id': ObjectId('5315595baa5e8a07ff04a78c'), u'id': 377652254096228352L}\n"
     ]
    }
   ],
   "source": [
    "m = local.san_francisco_db.tweets\n",
    "print m.find_one()"
   ]
  },
  {
   "cell_type": "code",
   "execution_count": 34,
   "metadata": {
    "collapsed": true
   },
   "outputs": [],
   "source": [
    "try:\n",
    "    cur.execute('DROP TABLE IF EXISTS tweets.ca_263;')\n",
    "    cur.execute('''    \n",
    "    CREATE TABLE tweets.ca_263 (\n",
    "        id BIGINT NOT NULL,\n",
    "        user_id BIGINT,\n",
    "        text CHARACTER VARYING,\n",
    "        coords public.geometry(Point, 4326),\n",
    "        ts CHARACTER VARYING,\n",
    "        CONSTRAINT ca_263_id_pkey PRIMARY KEY (id));\n",
    "    ''')\n",
    "    cur.execute('GRANT SELECT ON TABLE tweets.ca_263 TO smmaurer;')\n",
    "    conn.commit()    \n",
    "except:\n",
    "    conn.commit()"
   ]
  },
  {
   "cell_type": "code",
   "execution_count": 35,
   "metadata": {
    "collapsed": false
   },
   "outputs": [
    {
     "name": "stdout",
     "output_type": "stream",
     "text": [
      "351 sec.\n"
     ]
    }
   ],
   "source": [
    "t0 = time.time()\n",
    "try:\n",
    "    for t in m.find(): # can test with arg limit=N\n",
    "        cur.execute('''\n",
    "        INSERT INTO tweets.ca_263\n",
    "        VALUES (%s, %s, %s, ST_SetSRID(ST_MakePoint(%s, %s), 4326), %s)\n",
    "        ''', (\n",
    "            t['id'],\n",
    "            t['user_id'],\n",
    "            t['text'],\n",
    "            t['location']['coordinates'][0],\n",
    "            t['location']['coordinates'][1],\n",
    "            t['timeStamp']))\n",
    "        \n",
    "except Exception, e:\n",
    "    print str(e)\n",
    "    print t\n",
    "    \n",
    "conn.commit()\n",
    "print int(time.time()-t0), 'sec.'"
   ]
  },
  {
   "cell_type": "code",
   "execution_count": 36,
   "metadata": {
    "collapsed": true
   },
   "outputs": [],
   "source": [
    "cur.execute('''\n",
    "CREATE INDEX ca_263_user_id_index ON tweets.ca_263 USING btree (user_id);\n",
    "''')\n",
    "cur.execute('''\n",
    "CREATE INDEX ca_263_coords_index ON tweets.ca_263 USING GIST (coords);\n",
    "''')\n",
    "conn.commit()"
   ]
  },
  {
   "cell_type": "markdown",
   "metadata": {},
   "source": [
    "### 2. Now repeat with the partial SF extract from what Alexey was collecting"
   ]
  },
  {
   "cell_type": "code",
   "execution_count": 38,
   "metadata": {
    "collapsed": false
   },
   "outputs": [
    {
     "name": "stdout",
     "output_type": "stream",
     "text": [
      "[u'tweets_02', u'system.indexes']\n",
      "1500000\n"
     ]
    }
   ],
   "source": [
    "print local.topic_analysis.collection_names()\n",
    "print local.topic_analysis.tweets_02.count()"
   ]
  },
  {
   "cell_type": "code",
   "execution_count": 39,
   "metadata": {
    "collapsed": false
   },
   "outputs": [
    {
     "name": "stdout",
     "output_type": "stream",
     "text": [
      "{u'text': u'finally got to see the new bridge lol \\U0001f309', u'_id': ObjectId('528811ce992f710c0a61708a'), u'id': 401873845293817856L, u'coordinates': {u'type': u'Point', u'coordinates': [-122.35409981, 37.81748883]}, u'user': {u'id': 258187942}}\n"
     ]
    }
   ],
   "source": [
    "m = local.topic_analysis.tweets_02\n",
    "print m.find_one()"
   ]
  },
  {
   "cell_type": "code",
   "execution_count": 80,
   "metadata": {
    "collapsed": false
   },
   "outputs": [],
   "source": [
    "try:\n",
    "    cur.execute('DROP TABLE IF EXISTS tweets.sf_alexey;')\n",
    "    cur.execute('''    \n",
    "    CREATE TABLE tweets.sf_alexey (\n",
    "        id BIGINT NOT NULL,\n",
    "        user_id BIGINT,\n",
    "        text CHARACTER VARYING,\n",
    "        coords public.geometry(Point, 4326),\n",
    "        ts CHARACTER VARYING,\n",
    "        CONSTRAINT sf_alexey_id_pkey PRIMARY KEY (id));\n",
    "    ''')\n",
    "    cur.execute('GRANT SELECT ON TABLE tweets.sf_alexey TO smmaurer;')\n",
    "    \n",
    "except Exception, e:\n",
    "    print str(e)\n",
    "\n",
    "conn.commit()"
   ]
  },
  {
   "cell_type": "code",
   "execution_count": 84,
   "metadata": {
    "collapsed": false
   },
   "outputs": [
    {
     "name": "stdout",
     "output_type": "stream",
     "text": [
      "2003 sec.\n"
     ]
    }
   ],
   "source": [
    "# There are some duplicate tweet id's (N=163), and we have to check for them explicitly\n",
    "\n",
    "t0 = time.time()\n",
    "try:\n",
    "    for t in m.find():\n",
    "        cur.execute('''\n",
    "        SELECT id FROM tweets.sf_alexey WHERE id = %s;\n",
    "        ''', (t['id'],))\n",
    "        if len(cur.fetchall()) == 0:\n",
    "            cur.execute('''\n",
    "            INSERT INTO tweets.sf_alexey\n",
    "            VALUES (%s, %s, %s, ST_SetSRID(ST_MakePoint(%s, %s), 4326), %s)\n",
    "            ''', (\n",
    "                t['id'],\n",
    "                t['user']['id'],\n",
    "                t['text'],\n",
    "                t['coordinates']['coordinates'][0],\n",
    "                t['coordinates']['coordinates'][1],\n",
    "                \"\"))\n",
    "            conn.commit()\n",
    "        \n",
    "except Exception, e:\n",
    "    print str(e)\n",
    "    print t\n",
    "\n",
    "conn.commit()\n",
    "print int(time.time()-t0), 'sec.'"
   ]
  },
  {
   "cell_type": "code",
   "execution_count": 85,
   "metadata": {
    "collapsed": false
   },
   "outputs": [],
   "source": [
    "cur.execute('''\n",
    "CREATE INDEX sf_alexey_user_id_index ON tweets.sf_alexey USING btree (user_id);\n",
    "''')\n",
    "cur.execute('''\n",
    "CREATE INDEX sf_alexey_coords_index ON tweets.sf_alexey USING GIST (coords);\n",
    "''')\n",
    "conn.commit()"
   ]
  },
  {
   "cell_type": "markdown",
   "metadata": {},
   "source": [
    "### 3. And with the database of retrospective Bay Area posts"
   ]
  },
  {
   "cell_type": "code",
   "execution_count": 89,
   "metadata": {
    "collapsed": false
   },
   "outputs": [
    {
     "name": "stdout",
     "output_type": "stream",
     "text": [
      "{\"created_at\":\"Thu Nov 07 17:45:34 +0000 2013\",\"id\":398506527230672896,\"id_str\":\"398506527230672896\",\"text\":\"@AnissaJaimes That's why you get direct deposit haha\",\"source\":\"\\u003ca href=\\\"http:\\/\\/twitter.com\\/download\\/iphone\\\" rel=\\\"nofollow\\\"\\u003eTwitter for iPhone\\u003c\\/a\\u003e\",\"truncated\":false,\"in_reply_to_status_id\":398503887759355905,\"in_reply_to_status_id_str\":\"398503887759355905\",\"in_reply_to_user_id\":51533359,\"in_reply_to_user_id_str\":\"51533359\",\"in_reply_to_screen_name\":\"AnissaJaimes\",\"user\":{\"id\":334896071,\"id_str\":\"334896071\"},\"geo\":{\"type\":\"Point\",\"coordinates\":[37.63612964,-122.46396577]},\"coordinates\":{\"type\":\"Point\",\"coordinates\":[-122.46396577,37.63612964]},\"place\":{\"id\":\"5358b6f78dd95ef6\",\"url\":\"https:\\/\\/api.twitter.com\\/1.1\\/geo\\/id\\/5358b6f78dd95ef6.json\",\"place_type\":\"city\",\"name\":\"San Bruno\",\"full_name\":\"San Bruno, CA\",\"country_code\":\"US\",\"country\":\"United States\",\"contained_within\":[],\"bounding_box\":{\"type\":\"Polygon\",\"coordinates\":[[[-122.472817,37.604053],[-122.399999,37.604053],[-122.399999,37.641986],[-122.472817,37.641986]]]},\"attributes\":{}},\"contributors\":null,\"retweet_count\":0,\"favorite_count\":0,\"entities\":{\"hashtags\":[],\"symbols\":[],\"urls\":[],\"user_mentions\":[{\"screen_name\":\"AnissaJaimes\",\"name\":\"Anissa Jaimes\",\"id\":51533359,\"id_str\":\"51533359\",\"indices\":[0,13]}]},\"favorited\":false,\"retweeted\":false,\"lang\":\"en\"}\n",
      "\n"
     ]
    }
   ],
   "source": [
    "# Print a sample tweet\n",
    "\n",
    "d = '/Volumes/smmaurer/Data/Twitter/Bay-area-tweet-retrospective/'\n",
    "with zipfile.ZipFile(d + 'REST-1.json.zip') as z:\n",
    "    with z.open('REST-1.json') as f:\n",
    "        tweet = next(t for t in f)\n",
    "    \n",
    "print tweet"
   ]
  },
  {
   "cell_type": "code",
   "execution_count": 100,
   "metadata": {
    "collapsed": true
   },
   "outputs": [],
   "source": [
    "try:\n",
    "    cur.execute('DROP TABLE IF EXISTS tweets.ba_retro;')\n",
    "    cur.execute('''    \n",
    "    CREATE TABLE tweets.ba_retro (\n",
    "        id BIGINT NOT NULL,\n",
    "        user_id BIGINT,\n",
    "        text CHARACTER VARYING,\n",
    "        coords public.geometry(Point, 4326),\n",
    "        ts CHARACTER VARYING,\n",
    "        lang CHARACTER VARYING,\n",
    "        source CHARACTER VARYING,\n",
    "        source_full CHARACTER VARYING,\n",
    "        CONSTRAINT ba_retro_id_pkey PRIMARY KEY (id));\n",
    "    ''')\n",
    "    cur.execute('GRANT SELECT ON TABLE tweets.ba_retro TO smmaurer;')\n",
    "    conn.commit()    \n",
    "except:\n",
    "    conn.commit()"
   ]
  },
  {
   "cell_type": "code",
   "execution_count": 99,
   "metadata": {
    "collapsed": true
   },
   "outputs": [],
   "source": [
    "import string\n",
    "\n",
    "def get_source(source_str):\n",
    "    # Extract name of Twitter client from 'source' string\n",
    "    if source_str == 'web':\n",
    "        return source_str\n",
    "    try:\n",
    "        return string.split(string.split(source_str,'>')[1],'<')[0]\n",
    "    except:\n",
    "        return ''"
   ]
  },
  {
   "cell_type": "code",
   "execution_count": 101,
   "metadata": {
    "collapsed": false
   },
   "outputs": [
    {
     "name": "stdout",
     "output_type": "stream",
     "text": [
      "2809 sec.\n"
     ]
    }
   ],
   "source": [
    "t0 = time.time()\n",
    "d = '/Volumes/smmaurer/Data/Twitter/Bay-area-tweet-retrospective/'\n",
    "fnames = ['REST-1.json','REST-2.json','REST-3.json','REST-4.json']\n",
    "errcount = 0\n",
    "\n",
    "try:\n",
    "    for name in fnames:\n",
    "        with zipfile.ZipFile(d + name + '.zip') as z:\n",
    "            with z.open(name) as f:\n",
    "                for line in f:\n",
    "                    try: \n",
    "                        # some lines are not full tweets, or missing coords\n",
    "                        t = json.loads(line)\n",
    "                        lnglat = t['coordinates']['coordinates'] # [lng,lat]\n",
    "                    except:\n",
    "                        if (t['coordinates'] is not None) & (errcount < 100):\n",
    "                            print line\n",
    "                            errcount += 1\n",
    "                        continue\n",
    "                        \n",
    "                    cur.execute('''\n",
    "                    INSERT INTO tweets.ba_retro\n",
    "                    VALUES (%s,%s,%s,ST_SetSRID(ST_MakePoint(%s,%s),4326),%s,%s,%s,%s)\n",
    "                    ''', (\n",
    "                        t['id'],\n",
    "                        t['user']['id'],\n",
    "                        t['text'],\n",
    "                        lnglat[0],\n",
    "                        lnglat[1],\n",
    "                        t['created_at'],\n",
    "                        t['lang'],\n",
    "                        get_source(t['source']),\n",
    "                        t['source']))\n",
    "                    conn.commit()\n",
    "                    \n",
    "except Exception, e:\n",
    "    print str(e)\n",
    "    print t\n",
    "    \n",
    "conn.commit()\n",
    "print int(time.time()-t0), 'sec.'"
   ]
  },
  {
   "cell_type": "code",
   "execution_count": null,
   "metadata": {
    "collapsed": false
   },
   "outputs": [],
   "source": [
    "cur.execute('''\n",
    "CREATE INDEX ba_retro_user_id_index ON tweets.ba_retro USING btree (user_id);\n",
    "''')\n",
    "cur.execute('''\n",
    "CREATE INDEX ba_retro_coords_index ON tweets.ba_retro USING GIST (coords);\n",
    "''')\n",
    "conn.commit()"
   ]
  },
  {
   "cell_type": "code",
   "execution_count": 107,
   "metadata": {
    "collapsed": false
   },
   "outputs": [],
   "source": [
    "cur.execute('''\n",
    "CREATE INDEX ba_retro_lang_index ON tweets.ba_retro USING btree (lang);\n",
    "''')\n",
    "cur.execute('''\n",
    "CREATE INDEX ba_retro_source_index ON tweets.ba_retro USING btree (source);\n",
    "''')\n",
    "conn.commit()"
   ]
  },
  {
   "cell_type": "markdown",
   "metadata": {},
   "source": [
    "### 4. And with the stream of tweets"
   ]
  },
  {
   "cell_type": "code",
   "execution_count": 102,
   "metadata": {
    "collapsed": false
   },
   "outputs": [
    {
     "name": "stdout",
     "output_type": "stream",
     "text": [
      "{\"created_at\":\"Fri Sep 27 19:35:10 +0000 2013\",\"id\":383676205725007874,\"id_str\":\"383676205725007874\",\"text\":\"\\u201c@TheLakeShOwKinG: @makafaka you would still be my friend\\u201d \\ud83d\\ude0a ALWAYS!!\",\"source\":\"\\u003ca href=\\\"http:\\/\\/twitter.com\\/download\\/iphone\\\" rel=\\\"nofollow\\\"\\u003eTwitter for iPhone\\u003c\\/a\\u003e\",\"truncated\":false,\"in_reply_to_status_id\":383675967681486848,\"in_reply_to_status_id_str\":\"383675967681486848\",\"in_reply_to_user_id\":368735686,\"in_reply_to_user_id_str\":\"368735686\",\"in_reply_to_screen_name\":\"TheLakeShOwKinG\",\"user\":{\"id\":59842816,\"id_str\":\"59842816\",\"name\":\"Flame.Boyant\",\"screen_name\":\"makafaka\",\"location\":\"Bay Area\",\"url\":null,\"description\":\"____God first__Family over everything else___\",\"protected\":false,\"followers_count\":374,\"friends_count\":275,\"listed_count\":0,\"created_at\":\"Fri Jul 24 17:45:33 +0000 2009\",\"favourites_count\":4350,\"utc_offset\":-25200,\"time_zone\":\"Pacific Time (US & Canada)\",\"geo_enabled\":true,\"verified\":false,\"statuses_count\":14506,\"lang\":\"en\",\"contributors_enabled\":false,\"is_translator\":false,\"profile_background_color\":\"EDECE9\",\"profile_background_image_url\":\"http:\\/\\/a0.twimg.com\\/profile_background_images\\/609772850\\/avsw3soandplanqodnoz.png\",\"profile_background_image_url_https\":\"https:\\/\\/si0.twimg.com\\/profile_background_images\\/609772850\\/avsw3soandplanqodnoz.png\",\"profile_background_tile\":false,\"profile_image_url\":\"http:\\/\\/a0.twimg.com\\/profile_images\\/378800000512968186\\/ca4dbc1f89b4e799458dff753177eae3_normal.jpeg\",\"profile_image_url_https\":\"https:\\/\\/si0.twimg.com\\/profile_images\\/378800000512968186\\/ca4dbc1f89b4e799458dff753177eae3_normal.jpeg\",\"profile_banner_url\":\"https:\\/\\/pbs.twimg.com\\/profile_banners\\/59842816\\/1373927299\",\"profile_link_color\":\"091980\",\"profile_sidebar_border_color\":\"D3D2CF\",\"profile_sidebar_fill_color\":\"E3E2DE\",\"profile_text_color\":\"634047\",\"profile_use_background_image\":true,\"default_profile\":false,\"default_profile_image\":false,\"following\":null,\"follow_request_sent\":null,\"notifications\":null},\"geo\":{\"type\":\"Point\",\"coordinates\":[37.56931627,-122.32112314]},\"coordinates\":{\"type\":\"Point\",\"coordinates\":[-122.32112314,37.56931627]},\"place\":{\"id\":\"432daa3153c5fef9\",\"url\":\"https:\\/\\/api.twitter.com\\/1.1\\/geo\\/id\\/432daa3153c5fef9.json\",\"place_type\":\"city\",\"name\":\"San Mateo\",\"full_name\":\"San Mateo, CA\",\"country_code\":\"US\",\"country\":\"United States\",\"bounding_box\":{\"type\":\"Polygon\",\"coordinates\":[[[-122.35505,37.512249],[-122.35505,37.602135],[-122.274974,37.602135],[-122.274974,37.512249]]]},\"attributes\":{}},\"contributors\":null,\"retweet_count\":0,\"favorite_count\":0,\"entities\":{\"hashtags\":[],\"symbols\":[],\"urls\":[],\"user_mentions\":[{\"screen_name\":\"TheLakeShOwKinG\",\"name\":\"Chris Haynes\",\"id\":368735686,\"id_str\":\"368735686\",\"indices\":[1,17]},{\"screen_name\":\"makafaka\",\"name\":\"Flame.Boyant\",\"id\":59842816,\"id_str\":\"59842816\",\"indices\":[19,28]}]},\"favorited\":false,\"retweeted\":false,\"filter_level\":\"medium\",\"lang\":\"en\"}\r\n",
      "\n"
     ]
    }
   ],
   "source": [
    "# Print a sample tweet\n",
    "\n",
    "d = '/Volumes/smmaurer/Data/Twitter/Bay-area-tweet-samples/'\n",
    "with zipfile.ZipFile(d + 'raw-tweets-2.json.zip') as z:\n",
    "    with z.open('raw-tweets-2.json') as f:\n",
    "        tweet = next(t for t in f)\n",
    "    \n",
    "print tweet"
   ]
  },
  {
   "cell_type": "code",
   "execution_count": 113,
   "metadata": {
    "collapsed": true
   },
   "outputs": [],
   "source": [
    "try:\n",
    "    cur.execute('DROP TABLE IF EXISTS tweets.ba_stream;')\n",
    "    cur.execute('''    \n",
    "    CREATE TABLE tweets.ba_stream (\n",
    "        id BIGINT NOT NULL,\n",
    "        user_id BIGINT,\n",
    "        text CHARACTER VARYING,\n",
    "        coords public.geometry(Point, 4326),\n",
    "        ts CHARACTER VARYING,\n",
    "        lang CHARACTER VARYING,\n",
    "        source CHARACTER VARYING,\n",
    "        source_full CHARACTER VARYING,\n",
    "        CONSTRAINT ba_stream_id_pkey PRIMARY KEY (id));\n",
    "    ''')\n",
    "    cur.execute('GRANT SELECT ON TABLE tweets.ba_stream TO smmaurer;')\n",
    "    conn.commit()    \n",
    "except:\n",
    "    conn.commit()"
   ]
  },
  {
   "cell_type": "code",
   "execution_count": 114,
   "metadata": {
    "collapsed": false
   },
   "outputs": [
    {
     "name": "stdout",
     "output_type": "stream",
     "text": [
      "677 sec.\n"
     ]
    }
   ],
   "source": [
    "# There are some duplicate tweet id's here as well\n",
    "\n",
    "t0 = time.time()\n",
    "d = '/Volumes/smmaurer/Data/Twitter/Bay-area-tweet-samples/'\n",
    "fname = 'raw-tweets-2.json'\n",
    "errcount = 0\n",
    "\n",
    "try:\n",
    "    with zipfile.ZipFile(d + fname + '.zip') as z:\n",
    "        with z.open(fname) as f:\n",
    "            for line in f:\n",
    "                try: \n",
    "                    # some lines are not full tweets, or missing coords\n",
    "                    t = json.loads(line)\n",
    "                    lnglat = t['coordinates']['coordinates'] # [lng,lat]\n",
    "                except:\n",
    "                    if (line != '\\r\\n') & (t['coordinates'] is not None) & (errcount < 100):\n",
    "                        print repr(line)\n",
    "                        errcount += 1\n",
    "                    continue\n",
    "\n",
    "                cur.execute('''\n",
    "                SELECT id FROM tweets.ba_stream WHERE id = %s;\n",
    "                ''', (t['id'],))\n",
    "                if len(cur.fetchall()) == 0:\n",
    "                    cur.execute('''\n",
    "                    INSERT INTO tweets.ba_stream\n",
    "                    VALUES (%s,%s,%s,ST_SetSRID(ST_MakePoint(%s,%s),4326),%s,%s,%s,%s)\n",
    "                    ''', (\n",
    "                        t['id'],\n",
    "                        t['user']['id'],\n",
    "                        t['text'],\n",
    "                        lnglat[0],\n",
    "                        lnglat[1],\n",
    "                        t['created_at'],\n",
    "                        t['lang'],\n",
    "                        get_source(t['source']),\n",
    "                        t['source']))\n",
    "                    conn.commit()\n",
    "                    \n",
    "except Exception, e:\n",
    "    print str(e)\n",
    "    print t\n",
    "    \n",
    "conn.commit()\n",
    "print int(time.time()-t0), 'sec.'"
   ]
  },
  {
   "cell_type": "code",
   "execution_count": 115,
   "metadata": {
    "collapsed": true
   },
   "outputs": [],
   "source": [
    "cur.execute('''\n",
    "CREATE INDEX ba_stream_user_id_index ON tweets.ba_stream USING btree (user_id);\n",
    "''')\n",
    "cur.execute('''\n",
    "CREATE INDEX ba_stream_coords_index ON tweets.ba_stream USING GIST (coords);\n",
    "''')\n",
    "cur.execute('''\n",
    "CREATE INDEX ba_stream_lang_index ON tweets.ba_stream USING btree (lang);\n",
    "''')\n",
    "cur.execute('''\n",
    "CREATE INDEX ba_stream_source_index ON tweets.ba_stream USING btree (source);\n",
    "''')\n",
    "conn.commit()"
   ]
  },
  {
   "cell_type": "code",
   "execution_count": null,
   "metadata": {
    "collapsed": true
   },
   "outputs": [],
   "source": []
  },
  {
   "cell_type": "code",
   "execution_count": 106,
   "metadata": {
    "collapsed": true
   },
   "outputs": [],
   "source": [
    "conn.commit()"
   ]
  },
  {
   "cell_type": "code",
   "execution_count": null,
   "metadata": {
    "collapsed": true
   },
   "outputs": [],
   "source": []
  }
 ],
 "metadata": {
  "kernelspec": {
   "display_name": "Python 2",
   "language": "python",
   "name": "python2"
  },
  "language_info": {
   "codemirror_mode": {
    "name": "ipython",
    "version": 2
   },
   "file_extension": ".py",
   "mimetype": "text/x-python",
   "name": "python",
   "nbconvert_exporter": "python",
   "pygments_lexer": "ipython2",
   "version": "2.7.10"
  }
 },
 "nbformat": 4,
 "nbformat_minor": 0
}
